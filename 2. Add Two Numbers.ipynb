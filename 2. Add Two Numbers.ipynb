{
 "cells": [
  {
   "cell_type": "markdown",
   "metadata": {},
   "source": [
    "#### 紀錄一下對於Variables物件複製的學習"
   ]
  },
  {
   "cell_type": "code",
   "execution_count": 1,
   "metadata": {
    "collapsed": true
   },
   "outputs": [],
   "source": [
    "class ListNode:\n",
    "    def __init__(self, x):\n",
    "        self.val = x\n",
    "        self.next = None"
   ]
  },
  {
   "cell_type": "markdown",
   "metadata": {},
   "source": [
    "由於接觸到Linked-list的概念<br/>\n",
    "過程中對於python variable的copy和reference有了一點認識<br/>\n",
    "\n",
    "Linked-list的特長是可以有效率的Add, Delete新的ListNode在本身這條鏈中<br/>\n",
    "因為每個node有指定下家，所以只要更改某個node的指定，就完成了Add或是Delete<br/>\n",
    "相對的，一般的array，若要拔除第[3]個位置的entity，後面[4:]的entities都要往前移動，需要處理的程序較多<br/>\n",
    "\n"
   ]
  },
  {
   "cell_type": "code",
   "execution_count": 2,
   "metadata": {
    "collapsed": true
   },
   "outputs": [],
   "source": [
    "def value_to_listNode(val):\n",
    "    val = [i for i in reversed(str(val))]\n",
    "    digits = len(val)\n",
    "    node = ListNode(int(val[0]))\n",
    "    result = node\n",
    "    for i in range(1, digits):\n",
    "        node.next = ListNode(int(val[i]))\n",
    "        node = node.next\n",
    "    return result"
   ]
  },
  {
   "cell_type": "markdown",
   "metadata": {},
   "source": [
    "解題的過程中，我寫了一個正整數轉換為Linked-list的function<br/>\n",
    "ex. 12345 -> Linked-list: [5] -> [4] -> [3] -> [2] -> [1] (順序倒過來是因為題目的需要)<br/>\n",
    "寫這個function的時候，有一個地方我搞不太清楚<br/>\n",
    "<p>result = node<p>\n",
    "\n",
    "由於這個assignment，它們兩個應該reference到相同的address<br/>\n",
    "不過後續迴圈不停的將node指到node.next時<br/>\n",
    "result卻不會跟著node而變化<br/>\n",
    "請看以下範例"
   ]
  },
  {
   "cell_type": "code",
   "execution_count": 3,
   "metadata": {},
   "outputs": [
    {
     "name": "stdout",
     "output_type": "stream",
     "text": [
      "a: [1, 2, 3, 4, 5, [7, 8, 9]] \n",
      "b: [1, 2, 3, 4, 5, [7, 8, 9]]\n"
     ]
    }
   ],
   "source": [
    "# copy可以進行shallow copy與hard copy，shallow copy只會copy第一層的物件；hard則會recursive copy內層物件\n",
    "import copy\n",
    "my_list = [7,8,9]\n",
    "a = [1,2,3,4,5, my_list]\n",
    "b = copy.copy(a)\n",
    "print('a:',a, '\\nb:', b)"
   ]
  },
  {
   "cell_type": "code",
   "execution_count": 4,
   "metadata": {},
   "outputs": [
    {
     "name": "stdout",
     "output_type": "stream",
     "text": [
      "a: [1, 2, 3, 4, 5, [['change'], 8, 9]] \n",
      "b: [1, 2, 3, 4, 5, [['change'], 8, 9]]\n"
     ]
    }
   ],
   "source": [
    "# Shallow copy時，內層的物件的reference還是相同的\n",
    "my_list = [7,8,9]\n",
    "a = [1,2,3,4,5, my_list]\n",
    "b = copy.copy(a)\n",
    "my_list[0] = ['change'] #改變內層物件\n",
    "print('a:',a, '\\nb:', b)"
   ]
  },
  {
   "cell_type": "code",
   "execution_count": 5,
   "metadata": {},
   "outputs": [
    {
     "name": "stdout",
     "output_type": "stream",
     "text": [
      "a: [1, 2, 3, 4, 5, [7, 8, 9]] \n",
      "b: [1, 2, 3, 4, 5, [7, 8, 9]]\n"
     ]
    }
   ],
   "source": [
    "# 不過有一個例外，就是內層物件(my_list)，完全reference到另一個位址時，參考物件(a,b)就脫離他的控制了\n",
    "my_list = [7,8,9]\n",
    "a = [1,2,3,4,5, my_list]\n",
    "b = copy.copy(a)\n",
    "my_list = 100\n",
    "print('a:',a, '\\nb:', b)"
   ]
  },
  {
   "cell_type": "code",
   "execution_count": 6,
   "metadata": {},
   "outputs": [
    {
     "name": "stdout",
     "output_type": "stream",
     "text": [
      "a: [1, 2, 3, 4, 5, [7, 8, 'change a']] \n",
      "b: [1, 2, 3, 4, 5, [7, 8, 'change a']]\n"
     ]
    }
   ],
   "source": [
    "# 不過原先的reference還在\n",
    "my_list = [7,8,9]\n",
    "a = [1,2,3,4,5, my_list]\n",
    "b = copy.copy(a)\n",
    "my_list = 100\n",
    "a[5][2] = 'change a'\n",
    "print('a:',a, '\\nb:', b)"
   ]
  },
  {
   "cell_type": "markdown",
   "metadata": {},
   "source": [
    "<p>result = node<p>\n",
    "是一開始是參考相同的reference<br/>\n",
    "不過迴圈中，設定\n",
    "<p>node = node.next<p>\n",
    "時，result就已經脫離node的控制了<br/>\n",
    "node自己跑去建立了新的reference位址<br/>\n",
    "所以最後result跟node是參考完全不同的object。"
   ]
  }
 ],
 "metadata": {
  "kernelspec": {
   "display_name": "Python 3",
   "language": "python",
   "name": "python3"
  },
  "language_info": {
   "codemirror_mode": {
    "name": "ipython",
    "version": 3
   },
   "file_extension": ".py",
   "mimetype": "text/x-python",
   "name": "python",
   "nbconvert_exporter": "python",
   "pygments_lexer": "ipython3",
   "version": "3.6.1"
  }
 },
 "nbformat": 4,
 "nbformat_minor": 2
}
